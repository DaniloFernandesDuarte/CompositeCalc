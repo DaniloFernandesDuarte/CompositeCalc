{
 "cells": [
  {
   "cell_type": "code",
   "execution_count": 1,
   "metadata": {},
   "outputs": [],
   "source": [
    "import numpy as np\n",
    "from IPython.display import display\n",
    "\n",
    "from compcalc import *"
   ]
  },
  {
   "cell_type": "markdown",
   "metadata": {},
   "source": [
    "# Exemplo 6.1 do Barbeiro"
   ]
  },
  {
   "cell_type": "code",
   "execution_count": 2,
   "metadata": {},
   "outputs": [
    {
     "name": "stdout",
     "output_type": "stream",
     "text": [
      "Exemplo 6.1 do Barbeiro:\n",
      "\n",
      "\n",
      "INPLANE STIFFNESS:\n",
      "\n",
      "Ply 0 QT:\n"
     ]
    },
    {
     "data": {
      "text/plain": [
       "array([[12.4016496 ,  5.70964889,  1.21713152],\n",
       "       [ 5.70964889, 15.47166068,  3.00026153],\n",
       "       [ 1.21713152,  3.00026153,  6.23855472]])"
      ]
     },
     "metadata": {},
     "output_type": "display_data"
    },
    {
     "name": "stdout",
     "output_type": "stream",
     "text": [
      "\n",
      "A:\n"
     ]
    },
    {
     "data": {
      "text/plain": [
       "array([[15.75009499,  7.25125409,  0.        ],\n",
       "       [ 7.25125409, 19.64900906,  0.        ],\n",
       "       [ 0.        ,  0.        ,  7.92296449]])"
      ]
     },
     "metadata": {},
     "output_type": "display_data"
    },
    {
     "name": "stdout",
     "output_type": "stream",
     "text": [
      "\n",
      "B:\n"
     ]
    },
    {
     "data": {
      "text/plain": [
       "array([[0.        , 0.        , 0.49077786],\n",
       "       [0.        , 0.        , 1.20978046],\n",
       "       [0.49077786, 1.20978046, 0.        ]])"
      ]
     },
     "metadata": {},
     "output_type": "display_data"
    },
    {
     "name": "stdout",
     "output_type": "stream",
     "text": [
      "\n",
      "D:\n"
     ]
    },
    {
     "data": {
      "text/plain": [
       "array([[2.11694402, 0.97462898, 0.        ],\n",
       "       [0.97462898, 2.64099056, 0.        ],\n",
       "       [0.        , 0.        , 1.06491245]])"
      ]
     },
     "metadata": {},
     "output_type": "display_data"
    },
    {
     "name": "stdout",
     "output_type": "stream",
     "text": [
      "\n",
      "\n",
      "OUT OF PLANE STIFFNESS:\n",
      "\n",
      "Ply 0 QI:\n"
     ]
    },
    {
     "data": {
      "text/plain": [
       "array([[4.11155235, 0.        ],\n",
       "       [0.        , 3.789     ]])"
      ]
     },
     "metadata": {},
     "output_type": "display_data"
    },
    {
     "name": "stdout",
     "output_type": "stream",
     "text": [
      "\n",
      "Ply 0 QIT:\n"
     ]
    },
    {
     "data": {
      "text/plain": [
       "array([[ 3.89511647, -0.15155003],\n",
       "       [-0.15155003,  4.00543587]])"
      ]
     },
     "metadata": {},
     "output_type": "display_data"
    },
    {
     "name": "stdout",
     "output_type": "stream",
     "text": [
      "\n",
      "H:\n"
     ]
    },
    {
     "data": {
      "text/plain": [
       "array([[2.0611658 , 0.        ],\n",
       "       [0.        , 2.11954315]])"
      ]
     },
     "metadata": {},
     "output_type": "display_data"
    }
   ],
   "source": [
    "# Exemplo 6.1 do Barbeiro\n",
    "mt = 28\n",
    "t = 0.635 # mm\n",
    "theta = 55\n",
    "L = [\n",
    "    [mt,+theta,t],\n",
    "    [mt,-theta,t],\n",
    "]\n",
    "\n",
    "laminate = Laminate(L)\n",
    "# np.set_printoptions(precision=3)\n",
    "\n",
    "print('Exemplo 6.1 do Barbeiro:')\n",
    "\n",
    "print('\\n')\n",
    "print('INPLANE STIFFNESS:')\n",
    "\n",
    "print(\"\\nPly 0 QT:\")\n",
    "display(laminate.laminate_stack[0].QT)\n",
    "\n",
    "print(\"\\nA:\")\n",
    "display(laminate.A)\n",
    "\n",
    "print(\"\\nB:\")\n",
    "display(laminate.B)\n",
    "\n",
    "print(\"\\nD:\")\n",
    "display(laminate.D)\n",
    "\n",
    "print('\\n')\n",
    "print('OUT OF PLANE STIFFNESS:')\n",
    "\n",
    "print(\"\\nPly 0 QI:\")\n",
    "display(laminate.laminate_stack[0].QI)\n",
    "\n",
    "print(\"\\nPly 0 QIT:\")\n",
    "display(laminate.laminate_stack[0].QIT)\n",
    "\n",
    "\n",
    "print(\"\\nH:\")\n",
    "display(laminate.H)\n",
    "\n",
    "# print(\"\\nABD:\\n\")\n",
    "# display(laminate.ABD)\n",
    "\n",
    "# print(\"\\nabd:\\n\")\n",
    "# display(laminate.abd)"
   ]
  },
  {
   "cell_type": "code",
   "execution_count": 3,
   "metadata": {},
   "outputs": [
    {
     "name": "stdout",
     "output_type": "stream",
     "text": [
      "\n",
      "Laminate list:\n",
      "[[28, 0, 0.635, -0.0]]\n",
      "\n",
      "XXXX:\n",
      "1\n",
      "==================================================\n",
      "\n",
      "Ply 0 QT:\n",
      "[[20.8742658   3.26009417  0.        ]\n",
      " [ 3.26009417 11.89815391  0.        ]\n",
      " [ 0.          0.          3.789     ]]\n",
      "\n",
      "D:\n",
      "[[0.44540095 0.06956168 0.        ]\n",
      " [0.06956168 0.25387475 0.        ]\n",
      " [0.         0.         0.08084712]]\n",
      "\n",
      "d:\n"
     ]
    },
    {
     "data": {
      "text/plain": [
       "array([[ 2.34554004, -0.64267797,  0.        ],\n",
       "       [-0.64267797,  4.11504394,  0.        ],\n",
       "       [ 0.        ,  0.        , 12.36902493]])"
      ]
     },
     "metadata": {},
     "output_type": "display_data"
    },
    {
     "name": "stdout",
     "output_type": "stream",
     "text": [
      "\n",
      "\n",
      "\n",
      "\n",
      "Deformation vector:\n",
      "      u_x: 0.0\n",
      "      u_y: 0.0\n",
      " gamma_xy: 0.0\n",
      "      k_x: 2.345540036272178\n",
      "      k_y: -0.6426779699385768\n",
      "     k_xy: 0.0\n",
      "~~~~~~~~~~~~~~~~~~~~~~~~~~~~~~~~~~~~~~~~~~~~~~~~~~\n",
      "[ 0.          0.          0.          2.34554004 -0.64267797  0.        ]\n"
     ]
    }
   ],
   "source": [
    "# Exemplo 6.2 do Barbeiro\n",
    "mt = 28\n",
    "t = 0.635 # mm\n",
    "theta = 0\n",
    "L = [\n",
    "    [mt,+theta,t]\n",
    "]\n",
    "\n",
    "print(\"\\nLaminate list:\")\n",
    "laminate = Laminate(L)\n",
    "\n",
    "print(laminate.laminate_list)\n",
    "\n",
    "print(\"\\nXXXX:\")\n",
    "# display(laminate.laminate_stack[0].thickness)\n",
    "\n",
    "print(len(laminate.laminate_stack))\n",
    "\n",
    "\n",
    "print('='*50)\n",
    "\n",
    "print(\"\\nPly 0 QT:\")\n",
    "print(laminate.laminate_stack[0].QT)\n",
    "\n",
    "print(\"\\nD:\")\n",
    "print(laminate.D)\n",
    "\n",
    "print(\"\\nd:\")\n",
    "display(np.linalg.inv(laminate.D))\n",
    "\n",
    "# print(\"\\nABD:\")\n",
    "# print(laminate.ABD)\n",
    "\n",
    "# print(\"\\nabd:\")\n",
    "abd = np.linalg.inv(laminate.ABD)\n",
    "# print(abd)\n",
    "\n",
    "\n",
    "\n",
    "\n",
    "\n",
    "print('\\n'*3)\n",
    "\n",
    "load_vector = np.array([0,0,0,1,0,0]) # [N_x, N_y, N_xy, M_x, M_y, M_xy] \n",
    "laminate.aply_load(load_vector.T)\n",
    "laminate.print_deformation_vector()\n",
    "\n",
    "print('~'*50)\n",
    "\n",
    "print(np.dot(abd,load_vector))"
   ]
  },
  {
   "cell_type": "code",
   "execution_count": 4,
   "metadata": {},
   "outputs": [
    {
     "data": {
      "text/plain": [
       "array([[0.44540095, 0.06956168, 0.        ],\n",
       "       [0.06956168, 0.25387475, 0.        ],\n",
       "       [0.        , 0.        , 0.08084712]])"
      ]
     },
     "metadata": {},
     "output_type": "display_data"
    },
    {
     "name": "stdout",
     "output_type": "stream",
     "text": [
      "Deformation:\n",
      "[-0.74470896  0.20405026  0.        ]\n",
      "Estresse:\n",
      "[-0.040069    0.02812865  0.        ]\n"
     ]
    }
   ],
   "source": [
    "Zk = 0\n",
    "Q = laminate.laminate_stack[0].Q\n",
    "\n",
    "D0 = Q*(t*Zk**2 + (t**3)/12)\n",
    "\n",
    "display(D0)\n",
    "\n",
    "\n",
    "laminate.laminate_stack[0].print_lamina_deformation()"
   ]
  },
  {
   "cell_type": "markdown",
   "metadata": {},
   "source": [
    "---\n",
    "# Calculos de deformação do vaso de pressão"
   ]
  },
  {
   "cell_type": "code",
   "execution_count": 5,
   "metadata": {},
   "outputs": [
    {
     "name": "stdout",
     "output_type": "stream",
     "text": [
      "Alpha:\n",
      "0.35757110364551026 deg\n",
      "20.487315114722662 deg\n",
      "\n",
      "Deformation vector:\n",
      "      u_x: 0.0007753351743533289\n",
      "      u_y: 0.004398335295963933\n",
      " gamma_xy: -3.0847150750516914e-19\n",
      "      k_x: -0.002730545626650036\n",
      "      k_y: 0.0100874188769729\n",
      "     k_xy: -0.0033391410774119452\n"
     ]
    }
   ],
   "source": [
    "R_c = 60 # mm\n",
    "r_pf = 21 # mm\n",
    "b_ef = 42 # mm\n",
    "b_er = 42 # mm\n",
    "l_c = 88 # mm\n",
    "\n",
    "alpha_c = np.asin(r_pf/R_c)\n",
    "\n",
    "print(\"Alpha:\")\n",
    "print(alpha_c, \"deg\")\n",
    "print(np.rad2deg(alpha_c), \"deg\")\n",
    "\n",
    "alpha_c_deg = np.rad2deg(alpha_c)\n",
    "\n",
    "# Criando o laminado\n",
    "mt = 29\n",
    "t_angleply = 0.125 #(1/4) # mm #* 10**-3 # m\n",
    "t_hoop = t_angleply # 0.125 # mm\n",
    "\n",
    "L = [\n",
    "    [mt,+alpha_c_deg,t_angleply],\n",
    "    [mt,-alpha_c_deg,t_angleply],\n",
    "    [mt,+alpha_c_deg,t_angleply],\n",
    "    [mt,-alpha_c_deg,t_angleply],\n",
    "    [mt,+alpha_c_deg,t_angleply],\n",
    "    [mt,-alpha_c_deg,t_angleply],\n",
    "    [mt,90,t_hoop],\n",
    "]\n",
    "\n",
    "laminate = Laminate(L)\n",
    "\n",
    "pressure = 4e-3 # GPa # 4e6 # Pa\n",
    "\n",
    "# N_x = (pressure * np.pi * R_c**2)/(2 * np.pi * R_c) # N/m\n",
    "N_x = (pressure * R_c)/(2) # [10e3 Nm] tensão longitudinal\n",
    "N_y = pressure * R_c # [10e3 Nm]\n",
    "\n",
    "load_vector = np.array([N_x,N_x,0,0,0,0]) # [N_x, N_y, N_xy, M_x, M_y, M_xy]\n",
    "\n",
    "laminate.aply_load(load_vector)\n",
    "\n",
    "print()\n",
    "laminate.print_deformation_vector()\n",
    "\n",
    "# print('\\nSurface deformations:')\n",
    "# laminate.laminate_stack[-1].print_lamina_deformation()\n",
    "\n"
   ]
  },
  {
   "cell_type": "code",
   "execution_count": 6,
   "metadata": {},
   "outputs": [
    {
     "name": "stdout",
     "output_type": "stream",
     "text": [
      "==================================================\n",
      "Espessura = 0.105\n",
      "\n",
      "E1 = 146.94\n",
      "deformações ex,ey:\n",
      "0.0009230180647063441 0.0052361134475761096\n",
      "Erros em relação a média de ex,ey [%]:\n",
      "10.386595659578255 ; 7.652320148569491\n",
      "\n",
      "E1 = 130.0\n",
      "deformações ex,ey:\n",
      "0.0010608203755466505 0.005755849272063529\n",
      "Erros em relação a média de ex,ey [%]:\n",
      "-2.9922694705485817 ; -1.5140965090569578\n",
      "\n",
      "E1 = 120.0\n",
      "deformações ex,ey:\n",
      "0.0011620263445627993 0.006114183360649439\n",
      "Erros em relação a média de ex,ey [%]:\n",
      "-12.81809170512614 ; -7.833921704575644\n",
      "\n",
      "E1 = 110.0\n",
      "deformações ex,ey:\n",
      "0.0012831656186197433 0.006520182018415283\n",
      "Erros em relação a média de ex,ey [%]:\n",
      "-24.579186273761472 ; -14.994391859176082\n",
      "\n",
      "==================================================\n",
      "Espessura = 0.12\n",
      "\n",
      "E1 = 146.94\n",
      "deformações ex,ey:\n",
      "0.0008076408066180508 0.004581599266629098\n",
      "Erros em relação a média de ex,ey [%]:\n",
      "21.588271202131 ; 19.195780129998273\n",
      "\n",
      "E1 = 130.0\n",
      "deformações ex,ey:\n",
      "0.0009282178286033192 0.005036368113055588\n",
      "Erros em relação a média de ex,ey [%]:\n",
      "9.881764213269992 ; 11.175165554575168\n",
      "\n",
      "E1 = 120.0\n",
      "deformações ex,ey:\n",
      "0.0010167730514924493 0.005349910440568259\n",
      "Erros em relação a média de ex,ey [%]:\n",
      "1.28416975801464 ; 5.645318508496305\n",
      "\n",
      "E1 = 110.0\n",
      "deformações ex,ey:\n",
      "0.0011227699162922752 0.005705159266113372\n",
      "Erros em relação a média de ex,ey [%]:\n",
      "-9.006787989541266 ; -0.6200928767790572\n",
      "\n",
      "==================================================\n",
      "Espessura = 0.125\n",
      "\n",
      "E1 = 146.94\n",
      "deformações ex,ey:\n",
      "0.0007753351743533289 0.004398335295963933\n",
      "Erros em relação a média de ex,ey [%]:\n",
      "24.724740354045743 ; 22.42794892479836\n",
      "\n",
      "E1 = 130.0\n",
      "deformações ex,ey:\n",
      "0.0008910891154591862 0.004834913388533363\n",
      "Erros em relação a média de ex,ey [%]:\n",
      "13.486493644739209 ; 14.72815893239218\n",
      "\n",
      "E1 = 120.0\n",
      "deformações ex,ey:\n",
      "0.0009761021294327519 0.005135914022945528\n",
      "Erros em relação a média de ex,ey [%]:\n",
      "5.232802967693998 ; 9.41950576815646\n",
      "\n",
      "E1 = 110.0\n",
      "deformações ex,ey:\n",
      "0.0010778591196405846 0.005476952895468838\n",
      "Erros em relação a média de ex,ey [%]:\n",
      "-4.646516469959657 ; 3.40471083829209\n",
      "\n",
      "==================================================\n",
      "Espessura = 0.15\n",
      "\n",
      "E1 = 146.94\n",
      "deformações ex,ey:\n",
      "0.0006461126452944409 0.0036652794133032766\n",
      "Erros em relação a média de ex,ey [%]:\n",
      "37.27061696170477 ; 35.35662410399865\n",
      "\n",
      "E1 = 130.0\n",
      "deformações ex,ey:\n",
      "0.0007425742628826554 0.004029094490444471\n",
      "Erros em relação a média de ex,ey [%]:\n",
      "27.90541137061599 ; 28.940132443660115\n",
      "\n",
      "E1 = 120.0\n",
      "deformações ex,ey:\n",
      "0.0008134184411939599 0.004279928352454608\n",
      "Erros em relação a média de ex,ey [%]:\n",
      "21.027335806411664 ; 24.51625480679704\n",
      "\n",
      "E1 = 110.0\n",
      "deformações ex,ey:\n",
      "0.0008982159330338206 0.0045641274128906985\n",
      "Erros em relação a média de ex,ey [%]:\n",
      "12.794569608366938 ; 19.50392569857674\n",
      "\n",
      "==================================================\n",
      "Espessura = 0.18\n",
      "\n",
      "E1 = 146.94\n",
      "deformações ex,ey:\n",
      "0.0005384272044120342 0.0030543995110860634\n",
      "Erros em relação a média de ex,ey [%]:\n",
      "47.72551413475396 ; 46.13052008666554\n",
      "\n",
      "E1 = 130.0\n",
      "deformações ex,ey:\n",
      "0.0006188118857355461 0.0033575787420370585\n",
      "Erros em relação a média de ex,ey [%]:\n",
      "39.921176142179995 ; 40.78344370305011\n",
      "\n",
      "E1 = 120.0\n",
      "deformações ex,ey:\n",
      "0.0006778487009949665 0.00356660696037884\n",
      "Erros em relação a média de ex,ey [%]:\n",
      "34.189446505343064 ; 37.09687900566419\n",
      "\n",
      "E1 = 110.0\n",
      "deformações ex,ey:\n",
      "0.0007485132775281839 0.0038034395107422484\n",
      "Erros em relação a média de ex,ey [%]:\n",
      "27.328808006972437 ; 32.91993808214729\n",
      "\n"
     ]
    }
   ],
   "source": [
    "\n",
    "exp_ex = 0.00103\n",
    "exp_ey = 0.00567\n",
    "\n",
    "for t in [0.105,0.12,0.125,0.15,0.18]:\n",
    "    print('='*50)\n",
    "    print('Espessura =', t)\n",
    "    print()\n",
    "\n",
    "    for mt in [29,30,31,32]:\n",
    "        L = [\n",
    "        [mt,+alpha_c_deg,t],\n",
    "        [mt,-alpha_c_deg,t],\n",
    "        [mt,+alpha_c_deg,t],\n",
    "        [mt,-alpha_c_deg,t],\n",
    "        [mt,+alpha_c_deg,t],\n",
    "        [mt,-alpha_c_deg,t],\n",
    "        [mt,90,t],\n",
    "        ]\n",
    "\n",
    "        laminate = Laminate(L)\n",
    "\n",
    "        pressure = 4e-3 # GPa # 4e6 # Pa\n",
    "\n",
    "        # N_x = (pressure * np.pi * R_c**2)/(2 * np.pi * R_c) # N/m\n",
    "        N_x = (pressure * R_c)/(2) # [10e3 Nm] tensão longitudinal\n",
    "        N_y = pressure * R_c # [10e3 Nm]\n",
    "\n",
    "        load_vector = np.array([N_x,N_x,0,0,0,0]) # [N_x, N_y, N_xy, M_x, M_y, M_xy]\n",
    "\n",
    "        laminate.aply_load(load_vector)\n",
    "\n",
    "        # print('Material = ', mt)\n",
    "\n",
    "        ex = laminate.deformation_vector[0]\n",
    "        ey = laminate.deformation_vector[1]\n",
    "        \n",
    "\n",
    "        print('E1 =',laminate.laminate_stack[0].properties['E1'])\n",
    "        print('deformações ex,ey:')\n",
    "        print(ex,ey)\n",
    "\n",
    "        print('Erros em relação a média de ex,ey [%]:')\n",
    "        print(\n",
    "            100*((exp_ex-ex)/exp_ex),\n",
    "            ';',\n",
    "            100*((exp_ey-ey)/exp_ey)\n",
    "            )\n",
    "        print()"
   ]
  },
  {
   "cell_type": "code",
   "execution_count": 7,
   "metadata": {},
   "outputs": [
    {
     "name": "stdout",
     "output_type": "stream",
     "text": [
      "E1 = 146.94\n",
      "deformações ex,ey:\n",
      "0.0007015378997418826 0.00237321158924572\n",
      "Erros em relação a média de ex,ey [%]:\n",
      "31.889524296904607 ; 58.1444164154194\n",
      "\n",
      "E1 = 130.0\n",
      "deformações ex,ey:\n",
      "0.0007960151672448282 0.002629260362517543\n",
      "Erros em relação a média de ex,ey [%]:\n",
      "22.71697405390018 ; 53.62856503496397\n",
      "\n",
      "E1 = 120.0\n",
      "deformações ex,ey:\n",
      "0.0008645393933969291 0.002808124797686552\n",
      "Erros em relação a média de ex,ey [%]:\n",
      "16.06413656340495 ; 50.47398945879097\n",
      "\n",
      "E1 = 110.0\n",
      "deformações ex,ey:\n",
      "0.0009457257831935795 0.003013118038853349\n",
      "Erros em relação a média de ex,ey [%]:\n",
      "8.181962796739867 ; 46.858588380011476\n",
      "\n"
     ]
    }
   ],
   "source": [
    "\n",
    "exp_ex = 0.00103\n",
    "exp_ey = 0.00567\n",
    "\n",
    "t_angleply = 0.333/2\n",
    "t_hoop = 0.25\n",
    "\n",
    "for mt in [29,30,31,32]:\n",
    "\n",
    "\n",
    "    L = [\n",
    "    [mt,+alpha_c_deg,t_angleply],\n",
    "    [mt,-alpha_c_deg,t_angleply],\n",
    "    [mt,+alpha_c_deg,t_angleply],\n",
    "    [mt,-alpha_c_deg,t_angleply],\n",
    "    [mt,+alpha_c_deg,t_angleply],\n",
    "    [mt,-alpha_c_deg,t_angleply],\n",
    "    [mt,90,t_hoop],\n",
    "    ]\n",
    "\n",
    "    laminate = Laminate(L)\n",
    "\n",
    "    print('E1 =',laminate.laminate_stack[0].properties['E1'])\n",
    "\n",
    "    pressure = 4e-3 # GPa # 4e6 # Pa\n",
    "\n",
    "    # N_x = (pressure * np.pi * R_c**2)/(2 * np.pi * R_c) # N/m\n",
    "    N_x = (pressure * R_c)/(2) # [10e3 Nm] tensão longitudinal\n",
    "    N_y = pressure * R_c # [10e3 Nm]\n",
    "\n",
    "    load_vector = np.array([N_x,N_x,0,0,0,0]) # [N_x, N_y, N_xy, M_x, M_y, M_xy]\n",
    "\n",
    "    laminate.aply_load(load_vector)\n",
    "\n",
    "    # print('Material = ', mt)\n",
    "\n",
    "    ex = laminate.deformation_vector[0]\n",
    "    ey = laminate.deformation_vector[1]\n",
    "\n",
    "    print('deformações ex,ey:')\n",
    "    print(ex,ey)\n",
    "\n",
    "    print('Erros em relação a média de ex,ey [%]:')\n",
    "    print(\n",
    "        100*((exp_ex-ex)/exp_ex),\n",
    "        ';',\n",
    "        100*((exp_ey-ey)/exp_ey)\n",
    "        )\n",
    "    print()"
   ]
  }
 ],
 "metadata": {
  "kernelspec": {
   "display_name": "Python 3",
   "language": "python",
   "name": "python3"
  },
  "language_info": {
   "codemirror_mode": {
    "name": "ipython",
    "version": 3
   },
   "file_extension": ".py",
   "mimetype": "text/x-python",
   "name": "python",
   "nbconvert_exporter": "python",
   "pygments_lexer": "ipython3",
   "version": "3.12.4"
  }
 },
 "nbformat": 4,
 "nbformat_minor": 2
}
